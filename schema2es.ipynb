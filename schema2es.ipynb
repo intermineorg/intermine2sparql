{
 "cells": [
  {
   "cell_type": "code",
   "execution_count": null,
   "id": "3b89f3f6-706d-4126-922c-02db59dacacb",
   "metadata": {},
   "outputs": [],
   "source": [
    "import pandas as pd\n",
    "\n",
    "import json\n",
    "\n",
    "from elasticsearch import Elasticsearch, helpers\n",
    "from elasticsearch.helpers import bulk, streaming_bulk\n",
    "\n",
    "\n",
    "import sys\n",
    "from datetime import datetime"
   ]
  },
  {
   "cell_type": "code",
   "execution_count": null,
   "id": "17968268-2ba5-4686-96e0-77777c852c45",
   "metadata": {},
   "outputs": [],
   "source": [
    "#es_out = Elasticsearch(\"http://192.168.3.76:9201\", basic_auth=('elastic',''),verify_certs=False,ssl_show_warn=False)\n",
    "print(es_out)"
   ]
  },
  {
   "cell_type": "code",
   "execution_count": null,
   "id": "c6ef980e-a6fe-4b7c-8af6-47f2bbda90b0",
   "metadata": {},
   "outputs": [],
   "source": [
    "import json\n",
    "  \n",
    "# Opening JSON file\n",
    "\n",
    "source = 'humanmine'\n",
    "#source = 'flymine'\n",
    "\n",
    "f = open(source + '.json')\n",
    "  \n",
    "# returns JSON object as \n",
    "# a dictionary\n",
    "data = json.load(f)\n",
    "\n",
    "#print(data)"
   ]
  },
  {
   "cell_type": "code",
   "execution_count": null,
   "id": "00044312-ce78-459d-81e7-a876cd29604e",
   "metadata": {},
   "outputs": [],
   "source": [
    "test = '{\"name\": \"CellLine\", \"is_a\": \"BioEntity\", \"aliases\": [\"Cell Line\"], \"slots\": [\"DiseaseSubtype\", \"symbol\", \"PrimaryOrMetastasis\", \"Disease\", \"CCLEname\", \"DepMapID\", \"Sex\", \"Lineage\", \"ShortName\", \"primaryIdentifier\", \"LineageSubtype\", \"name\", \"LineageSubsubtype\", \"secondaryIdentifier\", \"id\", \"Age\", \"organism\", \"synonyms\", \"dataSets\", \"locations\", \"locatedFeatures\", \"depMapExpression\", \"crossReferences\", \"ontologyAnnotations\", \"interactions\", \"publications\"], \"slot_usage\": {\"DiseaseSubtype\": {\"range\": \"string\"}, \"symbol\": {\"range\": \"string\"}, \"PrimaryOrMetastasis\": {\"range\": \"string\"}, \"Disease\": {\"range\": \"string\"}, \"CCLEname\": {\"range\": \"string\"}, \"DepMapID\": {\"range\": \"string\"}, \"Sex\": {\"range\": \"string\"}, \"Lineage\": {\"range\": \"string\"}, \"ShortName\": {\"range\": \"string\"}, \"primaryIdentifier\": {\"range\": \"string\"}, \"LineageSubtype\": {\"range\": \"string\"}, \"name\": {\"range\": \"string\"}, \"LineageSubsubtype\": {\"range\": \"string\"}, \"secondaryIdentifier\": {\"range\": \"string\"}, \"id\": {\"range\": \"integer\"}, \"Age\": {\"range\": \"string\"}, \"organism\": {\"aliases\": [\"Organism\"], \"range\": \"Organism\", \"multivalued\": false}, \"synonyms\": {\"aliases\": [\"Synonyms\"], \"range\": \"Synonym\", \"multivalued\": true}, \"dataSets\": {\"aliases\": [\"Data Sets\"], \"range\": \"DataSet\", \"multivalued\": true}, \"locations\": {\"aliases\": [\"Locations\"], \"range\": \"Location\", \"multivalued\": true}, \"locatedFeatures\": {\"aliases\": [\"Located Features\"], \"range\": \"Location\", \"multivalued\": true}, \"depMapExpression\": {\"aliases\": [\"Dep Map Expression\"], \"range\": \"DepMapExpression\", \"multivalued\": true}, \"crossReferences\": {\"aliases\": [\"Cross References\"], \"range\": \"CrossReference\", \"multivalued\": true}, \"ontologyAnnotations\": {\"aliases\": [\"Ontology Annotations\"], \"range\": \"OntologyAnnotation\", \"multivalued\": true}, \"interactions\": {\"aliases\": [\"Interactions\"], \"range\": \"Interaction\", \"multivalued\": true}, \"publications\": {\"aliases\": [\"Publications\"], \"range\": \"Publication\", \"multivalued\": true}}, \"source\": \"humanmine\"}'\n",
    "test_dict = json.loads(test)\n",
    "#test_json\n",
    "\n",
    "def removekey(dict1, key_name):\n",
    "    ctr = 0\n",
    "    \n",
    "    values = []\n",
    "    for key, value in dict1[key_name].items():\n",
    "        ctr += 1\n",
    "    \n",
    "        #print(key, value)\n",
    "        \n",
    "        doc = value\n",
    "        doc['slot'] = key\n",
    "        values.append(doc)\n",
    "        \n",
    "    return values\n",
    "        \n",
    "removekey(test_dict, 'slot_usage')\n",
    "    "
   ]
  },
  {
   "cell_type": "code",
   "execution_count": null,
   "id": "fda199dc-6317-451f-9b89-8a7a3ef9b798",
   "metadata": {},
   "outputs": [],
   "source": [
    "ctr = 0\n",
    "\n",
    "for key,value in data['classes'].items():\n",
    "    ctr += 1\n",
    "    \n",
    "    #print(key, value)\n",
    "    doc = value.copy()\n",
    "    doc['source'] = source\n",
    "    #print(doc)\n",
    "    \n",
    "    doc['slot_usage'] = removekey(doc, 'slot_usage')\n",
    "    \n",
    "    doc_id = source + '_' + doc['name']\n",
    "    \n",
    "    jsonStr = json.dumps(doc)\n",
    "    #print(ctr, doc_id, jsonStr)\n",
    "    \n",
    "    res = es_out.index(index='intermine_schema', id=doc_id, document=jsonStr)\n",
    "    print(ctr, res)"
   ]
  },
  {
   "cell_type": "code",
   "execution_count": null,
   "id": "453bc0d1-5df4-4596-a574-0e6f683d6a1b",
   "metadata": {},
   "outputs": [],
   "source": []
  },
  {
   "cell_type": "code",
   "execution_count": null,
   "id": "5c697e6f-7c35-4b68-b10a-beb0ce020a1e",
   "metadata": {},
   "outputs": [],
   "source": []
  }
 ],
 "metadata": {
  "kernelspec": {
   "display_name": "Python3 (elasticsearch)",
   "language": "python",
   "name": "elastic"
  },
  "language_info": {
   "codemirror_mode": {
    "name": "ipython",
    "version": 3
   },
   "file_extension": ".py",
   "mimetype": "text/x-python",
   "name": "python",
   "nbconvert_exporter": "python",
   "pygments_lexer": "ipython3",
   "version": "3.8.10"
  }
 },
 "nbformat": 4,
 "nbformat_minor": 5
}
