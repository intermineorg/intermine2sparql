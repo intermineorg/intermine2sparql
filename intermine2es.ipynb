{
 "cells": [
  {
   "cell_type": "code",
   "execution_count": 30,
   "id": "3b89f3f6-706d-4126-922c-02db59dacacb",
   "metadata": {},
   "outputs": [],
   "source": [
    "import pandas as pd\n",
    "\n",
    "import json\n ",
    "\n",
    "from elasticsearch import Elasticsearch, helpers\n",
    "from elasticsearch.helpers import bulk, streaming_bulk\n",
    "\n",
    "\n",
    "import sys\n",
    "from datetime import datetime"
   ]
  },
  {
   "cell_type": "code",
   "execution_count": null,
   "id": "74656ad7-1dd0-443a-a9ea-8aa2aa2f2397",
   "metadata": {},
   "outputs": [],
   "source": [
    "# https://kibana.kibio.science/app/discover#/?_g=(filters:!(),refreshInterval:(pause:!t,value:0),time:(from:now-15m,to:now))&_a=(columns:!(),filters:!(),index:'6527d100-13e9-11ee-a697-0b0e571db997',interval:auto,query:(language:kuery,query:''),sort:!())\n"
   ]
  },
  {
   "cell_type": "code",
   "execution_count": 3,
   "id": "17968268-2ba5-4686-96e0-77777c852c45",
   "metadata": {},
   "outputs": [
    {
     "name": "stdout",
     "output_type": "stream",
     "text": [
      "<Elasticsearch(['http://192.168.3.76:9201'])>\n"
     ]
    }
   ],
   "source": [
    "#es_out = Elasticsearch(\"http://192.168.3.76:9201\", basic_auth=('elastic',''),verify_certs=False,ssl_show_warn=False)\n",
    "print(es_out)"
   ]
  },
  {
   "cell_type": "code",
   "execution_count": 4,
   "id": "678129b6-519a-47c2-a184-26f55e92259a",
   "metadata": {},
   "outputs": [],
   "source": [
    "from intermine.webservice import Service\n"
   ]
  },
  {
   "cell_type": "code",
   "execution_count": null,
   "id": "d301859a-0b3a-453b-a433-d5aebd7c2a8f",
   "metadata": {},
   "outputs": [],
   "source": [
    "def intermine2es(service_taxon, taxon_id, class_name, field_list, start_pos, end_pos):\n",
    "    \n",
    "    service = Service(\"https://www.\"+service_taxon+\".org/\"+service_taxon+\"/service\")\n",
    "    #service = Service(\"https://www.flymine.org/flymine/service\")\n",
    "\n",
    "    # Get a new query on the class (table) you will be querying:\n",
    "    query = service.new_query(class_name)\n",
    "\n",
    "    #query.add_view(\"diseaseId\", \"diseaseType\", \"name\", \"primaryIdentifier\")\n",
    "    for field_name in field_list:\n",
    "        print(field_name)\n",
    "        query.add_view(field_name)\n",
    "\n",
    "    ctr = 0\n",
    "    res = ''\n",
    "    jsonStr = ''\n",
    "\n",
    "    for row in query.rows():\n",
    "        ctr += 1\n",
    "        if ctr % 1000 == 0:\n",
    "            print(ctr, res, jsonStr)\n",
    "\n",
    "        #print(row[\"diseaseId\"], row[\"diseaseType\"], row[\"name\"], row[\"primaryIdentifier\"], row[\"alleles.primaryIdentifier\"], row[\"genes.primaryIdentifier\"])\n",
    "        row_dict = row.__dict__\n",
    "        #print(row_dict)\n",
    "\n",
    "        if ctr < start_pos:\n",
    "            continue\n",
    "        if ctr > end_pos:\n",
    "            break\n",
    "\n",
    "        jsonDoc = {}\n",
    "        jsonDoc['@type'] = 'intermine:'+class_name\n",
    "        jsonDoc['@context'] = 'http://es.kibio.science/bio2rdf/intermine:'+class_name\n",
    "        jsonDoc['@context'] = 'http://schema.org/'\n",
    "        jsonDoc['taxonomy'] = 'taxon:'+taxon_id\n",
    "        jsonDoc['property'] = 'taxon:7227'\n",
    "\n",
    "        ctri = 0\n",
    "        for name in row_dict['views']:\n",
    "            property = name.split('.')[1]\n",
    "            property = property.replace('id','intermine_id')\n",
    "            #print(property, row_dict['data'][ctri])\n",
    "            jsonDoc[property] = row_dict['data'][ctri]\n",
    "            ctri += 1\n",
    "\n",
    "        jsonDoc['@id'] = 'intermine:'+class_name+':' + str(jsonDoc['intermine_id'])\n",
    "        doc_id = jsonDoc['@id']\n",
    "\n",
    "        jsonStr = json.dumps(jsonDoc)\n",
    "\n",
    "        #print(jsonStr)\n",
    "\n",
    "        #res = es_out.index(index='intermine_'+taxon_id, id=doc_id, document=jsonStr)\n",
    "\n",
    "#'''\n",
    "        yield {\n",
    "            \"_index\": 'intermine_'+taxon_id,\n",
    "            \"_id\": doc_id,\n",
    "            \"_source\": jsonStr\n",
    "            }\n",
    "#'''\n",
    "    print(ctr, res)\n",
    "\n",
    "#intermine2es('flymine','7227','Disease',[\"name\", \"identifier\", \"name\", \"primaryIdentifier\"], 0, 1000000)\n",
    "#intermine2es('humanmine','9606','Disease',[\"diseaseId\", \"diseaseType\", \"name\", \"primaryIdentifier\"], 0, 1000000)\n",
    "#intermine2es('humanmine','9606','Gene',[\"briefDescription\", \"primaryIdentifier\", \"cytoLocation\", \"description\",\"length\", \"name\", \"score\", \"scoreType\", \"secondaryIdentifier\", \"symbol\"], 0, 1000000)\n",
    "#intermine2es('flymine','7227','Gene',[\"briefDescription\", \"cytoLocation\", \"primaryIdentifier\", \"description\",\"length\", \"name\", \"score\", \"scoreType\", \"secondaryIdentifier\", \"symbol\"]\n",
    "\n",
    "#bulk(es_out, intermine2es('flymine','7227','Protein',[\"primaryIdentifier\", \"ecNumber\", \"genbankIdentifier\", \"isFragment\",\"isUniprotCanonical\", \"length\", \"md5checksum\", \"name\", \"molecularWeight\", \"primaryAccession\", \"secondaryIdentifier\", \"symbol\", \"uniprotAccession\",\"uniprotName\"], 0, 1000000), chunk_size=250, max_retries=20, initial_backoff=5, max_backoff=5)\n",
    "\n",
    "#bulk(es_out, intermine2es('humanmine','9606','Protein',[\"isFragment\", \"isUniprotCanonical\", \"length\", \"md5checksum\",\"molecularWeight\", \"name\", \"primaryAccession\", \"primaryIdentifier\",\"secondaryIdentifier\", \"symbol\", \"uniprotAccession\", \"uniprotName\"], 0, 1000000), chunk_size=250, max_retries=20, initial_backoff=5, max_backoff=5)\n",
    "\n",
    "bulk(es_out, intermine2es('humanmine','relation','Relation',[\"isFragment\", \"isUniprotCanonical\", \"length\", \"md5checksum\",\"molecularWeight\", \"name\", \"primaryAccession\", \"primaryIdentifier\",\"secondaryIdentifier\", \"symbol\", \"uniprotAccession\", \"uniprotName\"], 0, 1000000), chunk_size=250, max_retries=20, initial_backoff=5, max_backoff=5)\n",
    "\n"
   ]
  },
  {
   "cell_type": "code",
   "execution_count": null,
   "id": "1ca1451b-92a4-43dc-b31e-eff250eb9aa1",
   "metadata": {},
   "outputs": [],
   "source": [
    "query = service.new_query(\"Gene\")\n",
    "\n",
    "# The view specifies the output columns\n",
    "query.add_view(\n",
    "    \"briefDescription\", \"primaryIdentifier\", \"cytoLocation\", \"description\",\n",
    "    \"length\", \"name\", \"score\", \"scoreType\", \"secondaryIdentifier\", \"symbol\",\n",
    "    \"diseases.primaryIdentifier\", \"diseases.name\"\n",
    ")\n",
    "\n",
    "for row in query.rows():\n",
    "    print(row[\"briefDescription\"], row[\"primaryIdentifier\"], row[\"cytoLocation\"], \\\n",
    "        row[\"description\"], row[\"length\"], row[\"name\"], row[\"score\"], row[\"scoreType\"], \\\n",
    "        row[\"secondaryIdentifier\"], row[\"symbol\"], row[\"diseases.primaryIdentifier\"], \\\n",
    "        row[\"diseases.name\"])"
   ]
  },
  {
   "cell_type": "code",
   "execution_count": null,
   "id": "5b8fd2c5-d896-4ed6-b197-ee5b96ffe420",
   "metadata": {},
   "outputs": [],
   "source": []
  }
 ],
 "metadata": {
  "kernelspec": {
   "display_name": "Python3 (elasticsearch)",
   "language": "python",
   "name": "elastic"
  },
  "language_info": {
   "codemirror_mode": {
    "name": "ipython",
    "version": 3
   },
   "file_extension": ".py",
   "mimetype": "text/x-python",
   "name": "python",
   "nbconvert_exporter": "python",
   "pygments_lexer": "ipython3",
   "version": "3.8.10"
  }
 },
 "nbformat": 4,
 "nbformat_minor": 5
}
